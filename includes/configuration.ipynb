{
 "cells": [
  {
   "cell_type": "code",
   "execution_count": 0,
   "metadata": {
    "application/vnd.databricks.v1+cell": {
     "cellMetadata": {
      "byteLimit": 2048000,
      "rowLimit": 10000
     },
     "inputWidgets": {},
     "nuid": "d7106300-3338-4e65-9476-bf6b1f15c663",
     "showTitle": false,
     "title": ""
    }
   },
   "outputs": [],
   "source": [
    "raw_folder_path = '/mnt/formula1hh/raw/'\n",
    "processed_folder_path = '/mnt/formula1hh/processed/'\n",
    "presentation_folder_path = '/mnt/formula1hh/presentation/'"
   ]
  }
 ],
 "metadata": {
  "application/vnd.databricks.v1+notebook": {
   "dashboards": [],
   "language": "python",
   "notebookMetadata": {
    "pythonIndentUnit": 4
   },
   "notebookName": "configuration",
   "notebookOrigID": 991769423355487,
   "widgets": {}
  }
 },
 "nbformat": 4,
 "nbformat_minor": 0
}
