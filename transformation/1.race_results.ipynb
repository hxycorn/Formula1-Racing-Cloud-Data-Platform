{
 "cells": [
  {
   "cell_type": "code",
   "execution_count": 0,
   "metadata": {
    "application/vnd.databricks.v1+cell": {
     "cellMetadata": {
      "byteLimit": 2048000,
      "rowLimit": 10000
     },
     "inputWidgets": {},
     "nuid": "27019fe7-8c6e-428a-a36e-c089640c44ea",
     "showTitle": false,
     "title": ""
    }
   },
   "outputs": [],
   "source": [
    "dbutils.widgets.text(\"p_file_date\", \"2021-03-21\")\n",
    "v_file_date = dbutils.widgets.get(\"p_file_date\")"
   ]
  },
  {
   "cell_type": "code",
   "execution_count": 0,
   "metadata": {
    "application/vnd.databricks.v1+cell": {
     "cellMetadata": {
      "byteLimit": 2048000,
      "rowLimit": 10000
     },
     "inputWidgets": {},
     "nuid": "0b60c59b-e9b0-4093-b49a-82a8335f4646",
     "showTitle": false,
     "title": ""
    }
   },
   "outputs": [
    {
     "output_type": "stream",
     "name": "stdout",
     "output_type": "stream",
     "text": [
      "Out[133]: '2021-04-18'"
     ]
    }
   ],
   "source": [
    "v_file_date"
   ]
  },
  {
   "cell_type": "code",
   "execution_count": 0,
   "metadata": {
    "application/vnd.databricks.v1+cell": {
     "cellMetadata": {
      "byteLimit": 2048000,
      "rowLimit": 10000
     },
     "inputWidgets": {},
     "nuid": "605ba737-be36-4395-903b-81f5c5ade4a9",
     "showTitle": false,
     "title": ""
    }
   },
   "outputs": [],
   "source": [
    "%run ../includes/configuration"
   ]
  },
  {
   "cell_type": "code",
   "execution_count": 0,
   "metadata": {
    "application/vnd.databricks.v1+cell": {
     "cellMetadata": {
      "byteLimit": 2048000,
      "rowLimit": 10000
     },
     "inputWidgets": {},
     "nuid": "a0113f7e-706b-47e2-9f53-86ba189b6c13",
     "showTitle": false,
     "title": ""
    }
   },
   "outputs": [],
   "source": [
    "drivers_df = spark.read.parquet(f'{processed_folder_path}drivers').\\\n",
    "withColumnRenamed('number','driver_number').\\\n",
    "withColumnRenamed('name','driver_name').\\\n",
    "withColumnRenamed('nationality','driver_nationality').\\\n",
    "withColumnRenamed('driver-id','driver_id')"
   ]
  },
  {
   "cell_type": "code",
   "execution_count": 0,
   "metadata": {
    "application/vnd.databricks.v1+cell": {
     "cellMetadata": {
      "byteLimit": 2048000,
      "rowLimit": 10000
     },
     "inputWidgets": {},
     "nuid": "afcb0a4d-a02d-4844-8a41-1653a548f72b",
     "showTitle": false,
     "title": ""
    }
   },
   "outputs": [],
   "source": [
    "race_df = spark.read.parquet(f'{processed_folder_path}race').\\\n",
    "withColumnRenamed('name','race_name').\\\n",
    "withColumnRenamed('race_timestamp','race_date')\n"
   ]
  },
  {
   "cell_type": "code",
   "execution_count": 0,
   "metadata": {
    "application/vnd.databricks.v1+cell": {
     "cellMetadata": {
      "byteLimit": 2048000,
      "rowLimit": 10000
     },
     "inputWidgets": {},
     "nuid": "1338ea15-6a2a-4565-ad6f-0df6d1bf0a10",
     "showTitle": false,
     "title": ""
    }
   },
   "outputs": [],
   "source": [
    "constructors_df = spark.read.parquet(f'{processed_folder_path}constructors').\\\n",
    "withColumnRenamed('name','team').\\\n",
    "withColumnRenamed('nationality','constructor_nationality')"
   ]
  },
  {
   "cell_type": "code",
   "execution_count": 0,
   "metadata": {
    "application/vnd.databricks.v1+cell": {
     "cellMetadata": {
      "byteLimit": 2048000,
      "rowLimit": 10000
     },
     "inputWidgets": {},
     "nuid": "f0e63c3f-28ec-4929-a744-965b911dc857",
     "showTitle": false,
     "title": ""
    }
   },
   "outputs": [],
   "source": [
    "circuits_df = spark.read.parquet(f'{processed_folder_path}circuits').\\\n",
    "withColumnRenamed('location','circuit_location')"
   ]
  },
  {
   "cell_type": "code",
   "execution_count": 0,
   "metadata": {
    "application/vnd.databricks.v1+cell": {
     "cellMetadata": {
      "byteLimit": 2048000,
      "rowLimit": 10000
     },
     "inputWidgets": {},
     "nuid": "8bfe7e40-fc5b-42a1-9a69-ff0b939df660",
     "showTitle": false,
     "title": ""
    }
   },
   "outputs": [],
   "source": [
    "results_df = spark.read.parquet(f'{processed_folder_path}results').\\\n",
    "filter(f\"file_date == '{v_file_date}'\").\\\n",
    "withColumnRenamed('time','race_time').\\\n",
    "withColumnRenamed('race_id','result_race_id').\\\n",
    "withColumnRenamed('file_date','result_file_date')"
   ]
  },
  {
   "cell_type": "code",
   "execution_count": 0,
   "metadata": {
    "application/vnd.databricks.v1+cell": {
     "cellMetadata": {
      "byteLimit": 2048000,
      "rowLimit": 10000
     },
     "inputWidgets": {},
     "nuid": "891a70f6-2f6a-4e4c-8313-341e584d6135",
     "showTitle": false,
     "title": ""
    }
   },
   "outputs": [],
   "source": [
    "race_circuit_df = race_df.join(circuits_df, race_df.circuit_id == circuits_df.circuit_id, 'inner').\\\n",
    "select(race_df.race_id, race_df.race_year, race_df.race_name, race_df.race_date, circuits_df.circuit_location)"
   ]
  },
  {
   "cell_type": "code",
   "execution_count": 0,
   "metadata": {
    "application/vnd.databricks.v1+cell": {
     "cellMetadata": {
      "byteLimit": 2048000,
      "rowLimit": 10000
     },
     "inputWidgets": {},
     "nuid": "d45d7303-4c47-4b58-a682-8962feac4a34",
     "showTitle": false,
     "title": ""
    }
   },
   "outputs": [],
   "source": [
    "race_results_df = results_df.join(drivers_df, drivers_df.driver_id == results_df.driver_id)\\\n",
    "                  .join(race_circuit_df, race_circuit_df.race_id == (results_df.result_race_id))\\\n",
    "                .join(constructors_df, constructors_df.constructor_id == results_df.constructor_id)"
   ]
  },
  {
   "cell_type": "code",
   "execution_count": 0,
   "metadata": {
    "application/vnd.databricks.v1+cell": {
     "cellMetadata": {
      "byteLimit": 2048000,
      "rowLimit": 10000
     },
     "inputWidgets": {},
     "nuid": "13211cd0-25a2-43fb-ba13-b16a88cff781",
     "showTitle": false,
     "title": ""
    }
   },
   "outputs": [],
   "source": [
    "from pyspark.sql.functions import current_timestamp"
   ]
  },
  {
   "cell_type": "code",
   "execution_count": 0,
   "metadata": {
    "application/vnd.databricks.v1+cell": {
     "cellMetadata": {
      "byteLimit": 2048000,
      "rowLimit": 10000
     },
     "inputWidgets": {},
     "nuid": "1eea0da0-f83c-4635-9b11-27a696599f7e",
     "showTitle": false,
     "title": ""
    }
   },
   "outputs": [],
   "source": [
    "final_df = race_results_df.select('race_id','race_year', 'race_name', 'race_date', 'circuit_location', 'driver_name','driver_number', 'driver_nationality', 'team', 'grid', 'fastest_lap', 'race_time', 'points', 'position','result_file_date').\\\n",
    "withColumn('created_time', current_timestamp()).\\\n",
    "withColumnRenamed('result_file_date', 'file_date')"
   ]
  },
  {
   "cell_type": "code",
   "execution_count": 0,
   "metadata": {
    "application/vnd.databricks.v1+cell": {
     "cellMetadata": {
      "byteLimit": 2048000,
      "rowLimit": 10000
     },
     "inputWidgets": {},
     "nuid": "78371895-b664-4555-81f9-7e0cd6bec190",
     "showTitle": false,
     "title": ""
    }
   },
   "outputs": [],
   "source": [
    "#display(final_df)"
   ]
  },
  {
   "cell_type": "code",
   "execution_count": 0,
   "metadata": {
    "application/vnd.databricks.v1+cell": {
     "cellMetadata": {
      "byteLimit": 2048000,
      "rowLimit": 10000
     },
     "inputWidgets": {},
     "nuid": "49bc2b4a-15c8-4237-bed0-e393df70d875",
     "showTitle": false,
     "title": ""
    }
   },
   "outputs": [],
   "source": [
    "#display(final_df.filter(\"race_year = 2020 and race_name = 'Abu Dhabi Grand Prix'\").orderBy(final_df.points.desc()))\n"
   ]
  },
  {
   "cell_type": "code",
   "execution_count": 0,
   "metadata": {
    "application/vnd.databricks.v1+cell": {
     "cellMetadata": {
      "byteLimit": 2048000,
      "rowLimit": 10000
     },
     "inputWidgets": {},
     "nuid": "e3e3fb7a-0e35-46e1-83d1-f048d5c6cd9f",
     "showTitle": false,
     "title": ""
    }
   },
   "outputs": [],
   "source": [
    "%run \"../includes/common_functions\""
   ]
  },
  {
   "cell_type": "code",
   "execution_count": 0,
   "metadata": {
    "application/vnd.databricks.v1+cell": {
     "cellMetadata": {
      "byteLimit": 2048000,
      "rowLimit": 10000
     },
     "inputWidgets": {},
     "nuid": "b0b07a35-cdb9-4187-918e-7ca94ba235a4",
     "showTitle": false,
     "title": ""
    }
   },
   "outputs": [],
   "source": [
    "overwrite_partition(final_df, 'race_id', 'f1_presentation', 'race_results')"
   ]
  },
  {
   "cell_type": "code",
   "execution_count": 0,
   "metadata": {
    "application/vnd.databricks.v1+cell": {
     "cellMetadata": {
      "byteLimit": 2048000,
      "implicitDf": true,
      "rowLimit": 10000
     },
     "inputWidgets": {},
     "nuid": "625c0eea-76c9-45f5-9184-a3c09ea7e079",
     "showTitle": false,
     "title": ""
    }
   },
   "outputs": [],
   "source": [
    "# %sql\n",
    "# SELECT race_id, count(1)\n",
    "# FROM f1_presentation.race_results\n",
    "# GROUP BY race_id\n",
    "# ORDER BY race_id DESC"
   ]
  },
  {
   "cell_type": "code",
   "execution_count": 0,
   "metadata": {
    "application/vnd.databricks.v1+cell": {
     "cellMetadata": {
      "byteLimit": 2048000,
      "rowLimit": 10000
     },
     "inputWidgets": {},
     "nuid": "61bc82cb-1c48-402d-a7a6-6ab5ee5b3f04",
     "showTitle": false,
     "title": ""
    }
   },
   "outputs": [],
   "source": []
  }
 ],
 "metadata": {
  "application/vnd.databricks.v1+notebook": {
   "dashboards": [],
   "language": "python",
   "notebookMetadata": {
    "mostRecentlyExecutedCommandWithImplicitDF": {
     "commandId": 1899635633613401,
     "dataframes": [
      "_sqldf"
     ]
    },
    "pythonIndentUnit": 4
   },
   "notebookName": "1.race_results",
   "notebookOrigID": 470143607616436,
   "widgets": {
    "p_file_date": {
     "currentValue": "2021-04-18",
     "nuid": "9b5480b8-ecf7-499a-a86d-adbffc04d13f",
     "widgetInfo": {
      "widgetType": "text",
      "defaultValue": "2021-03-21",
      "label": null,
      "name": "p_file_date",
      "options": {
       "widgetType": "text",
       "validationRegex": null
      }
     }
    }
   }
  }
 },
 "nbformat": 4,
 "nbformat_minor": 0
}
