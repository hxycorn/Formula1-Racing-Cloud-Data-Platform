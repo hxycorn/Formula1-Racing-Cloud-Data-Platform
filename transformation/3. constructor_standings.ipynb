{
 "cells": [
  {
   "cell_type": "code",
   "execution_count": 0,
   "metadata": {
    "application/vnd.databricks.v1+cell": {
     "cellMetadata": {
      "byteLimit": 2048000,
      "rowLimit": 10000
     },
     "inputWidgets": {},
     "nuid": "ac6c6d0f-5386-4b15-b6e9-f29b43ad86a6",
     "showTitle": false,
     "title": ""
    }
   },
   "outputs": [],
   "source": [
    "%run ../includes/configuration"
   ]
  },
  {
   "cell_type": "code",
   "execution_count": 0,
   "metadata": {
    "application/vnd.databricks.v1+cell": {
     "cellMetadata": {
      "byteLimit": 2048000,
      "rowLimit": 10000
     },
     "inputWidgets": {},
     "nuid": "770489d7-0ecf-40f7-95a4-0bc58969ed76",
     "showTitle": false,
     "title": ""
    }
   },
   "outputs": [],
   "source": [
    "%run \"../includes/common_functions\""
   ]
  },
  {
   "cell_type": "code",
   "execution_count": 0,
   "metadata": {
    "application/vnd.databricks.v1+cell": {
     "cellMetadata": {
      "byteLimit": 2048000,
      "rowLimit": 10000
     },
     "inputWidgets": {},
     "nuid": "3a890438-9193-415d-b91e-c24c68f15e1e",
     "showTitle": false,
     "title": ""
    }
   },
   "outputs": [],
   "source": [
    "dbutils.widgets.text(\"p_file_date\", \"2021-03-21\")\n",
    "v_file_date = dbutils.widgets.get(\"p_file_date\")"
   ]
  },
  {
   "cell_type": "code",
   "execution_count": 0,
   "metadata": {
    "application/vnd.databricks.v1+cell": {
     "cellMetadata": {
      "byteLimit": 2048000,
      "rowLimit": 10000
     },
     "inputWidgets": {},
     "nuid": "6c682302-8042-4c70-aa91-b75939fa4334",
     "showTitle": false,
     "title": ""
    }
   },
   "outputs": [],
   "source": [
    "race_reuslts_df = spark.read.parquet(f'{presentation_folder_path}race_results')\\\n",
    ".filter(f\"file_date='{v_file_date}'\")"
   ]
  },
  {
   "cell_type": "code",
   "execution_count": 0,
   "metadata": {
    "application/vnd.databricks.v1+cell": {
     "cellMetadata": {
      "byteLimit": 2048000,
      "rowLimit": 10000
     },
     "inputWidgets": {},
     "nuid": "d390dbbc-b13c-4f70-900d-8fff667454b1",
     "showTitle": false,
     "title": ""
    }
   },
   "outputs": [],
   "source": [
    "race_year_list = df_column_to_list(race_reuslts_df, 'race_year')"
   ]
  },
  {
   "cell_type": "code",
   "execution_count": 0,
   "metadata": {
    "application/vnd.databricks.v1+cell": {
     "cellMetadata": {
      "byteLimit": 2048000,
      "rowLimit": 10000
     },
     "inputWidgets": {},
     "nuid": "901da527-9a9b-4a44-a557-0e77fc5fc1ab",
     "showTitle": false,
     "title": ""
    }
   },
   "outputs": [],
   "source": [
    "from pyspark.sql.functions import sum, when, count, col\n",
    "race_reuslts_df = spark.read.parquet(f'{presentation_folder_path}race_results').\\\n",
    "filter(col(\"race_year\").isin(race_year_list))"
   ]
  },
  {
   "cell_type": "code",
   "execution_count": 0,
   "metadata": {
    "application/vnd.databricks.v1+cell": {
     "cellMetadata": {
      "byteLimit": 2048000,
      "rowLimit": 10000
     },
     "inputWidgets": {},
     "nuid": "e97631f1-91ff-4947-8fae-99208c23e11a",
     "showTitle": false,
     "title": ""
    }
   },
   "outputs": [],
   "source": [
    "from pyspark.sql.functions import sum, when, count, col,desc\n",
    "constructor_standing_df = race_reuslts_df\\\n",
    ".groupby('race_year', 'team')\\\n",
    ".agg(sum('points').alias('total_points'),\n",
    "count(when (col('position')==1, True)).alias('wins'))"
   ]
  },
  {
   "cell_type": "code",
   "execution_count": 0,
   "metadata": {
    "application/vnd.databricks.v1+cell": {
     "cellMetadata": {
      "byteLimit": 2048000,
      "rowLimit": 10000
     },
     "inputWidgets": {},
     "nuid": "7dcd7d8b-5341-42b8-8bdc-84834d315e91",
     "showTitle": false,
     "title": ""
    }
   },
   "outputs": [],
   "source": [
    "from pyspark.sql.functions import rank"
   ]
  },
  {
   "cell_type": "code",
   "execution_count": 0,
   "metadata": {
    "application/vnd.databricks.v1+cell": {
     "cellMetadata": {
      "byteLimit": 2048000,
      "rowLimit": 10000
     },
     "inputWidgets": {},
     "nuid": "12e6b5d6-1c75-410a-a9b9-8b4c888c353f",
     "showTitle": false,
     "title": ""
    }
   },
   "outputs": [],
   "source": [
    "from pyspark.sql.window import Window\n",
    "\n",
    "constructor_rank_spec = Window.partitionBy('race_year').orderBy(desc('total_points'), desc('wins'))\n",
    "final_df = constructor_standing_df.withColumn(\"rank\", rank().over(constructor_rank_spec))"
   ]
  },
  {
   "cell_type": "code",
   "execution_count": 0,
   "metadata": {
    "application/vnd.databricks.v1+cell": {
     "cellMetadata": {
      "byteLimit": 2048000,
      "rowLimit": 10000
     },
     "inputWidgets": {},
     "nuid": "6a328625-5881-4cfb-b330-0464203f1da2",
     "showTitle": false,
     "title": ""
    }
   },
   "outputs": [],
   "source": [
    "overwrite_partition(final_df, 'race_year', 'f1_presentation', 'constructor_standings')"
   ]
  },
  {
   "cell_type": "code",
   "execution_count": 0,
   "metadata": {
    "application/vnd.databricks.v1+cell": {
     "cellMetadata": {
      "byteLimit": 2048000,
      "implicitDf": true,
      "rowLimit": 10000
     },
     "inputWidgets": {},
     "nuid": "db232d70-a977-4eac-8cb7-120757664311",
     "showTitle": false,
     "title": ""
    }
   },
   "outputs": [
    {
     "output_type": "display_data",
     "data": {
      "text/html": [
       "<style scoped>\n",
       "  .table-result-container {\n",
       "    max-height: 300px;\n",
       "    overflow: auto;\n",
       "  }\n",
       "  table, th, td {\n",
       "    border: 1px solid black;\n",
       "    border-collapse: collapse;\n",
       "  }\n",
       "  th, td {\n",
       "    padding: 5px;\n",
       "  }\n",
       "  th {\n",
       "    text-align: left;\n",
       "  }\n",
       "</style><div class='table-result-container'><table class='table-result'><thead style='background-color: white'><tr><th>race_year</th><th>count(1)</th></tr></thead><tbody><tr><td>2021</td><td>10</td></tr><tr><td>2020</td><td>10</td></tr><tr><td>2019</td><td>10</td></tr><tr><td>2018</td><td>10</td></tr><tr><td>2017</td><td>10</td></tr><tr><td>2016</td><td>11</td></tr><tr><td>2015</td><td>10</td></tr><tr><td>2014</td><td>11</td></tr><tr><td>2013</td><td>11</td></tr><tr><td>2012</td><td>12</td></tr><tr><td>2011</td><td>12</td></tr><tr><td>2010</td><td>12</td></tr><tr><td>2009</td><td>10</td></tr><tr><td>2008</td><td>11</td></tr><tr><td>2007</td><td>11</td></tr><tr><td>2006</td><td>12</td></tr><tr><td>2005</td><td>10</td></tr><tr><td>2004</td><td>10</td></tr><tr><td>2003</td><td>10</td></tr><tr><td>2002</td><td>11</td></tr><tr><td>2001</td><td>11</td></tr><tr><td>2000</td><td>11</td></tr><tr><td>1999</td><td>11</td></tr><tr><td>1998</td><td>11</td></tr><tr><td>1997</td><td>12</td></tr><tr><td>1996</td><td>11</td></tr><tr><td>1995</td><td>13</td></tr><tr><td>1994</td><td>14</td></tr><tr><td>1993</td><td>13</td></tr><tr><td>1992</td><td>16</td></tr><tr><td>1991</td><td>19</td></tr><tr><td>1990</td><td>19</td></tr><tr><td>1989</td><td>20</td></tr><tr><td>1988</td><td>18</td></tr><tr><td>1987</td><td>16</td></tr><tr><td>1986</td><td>14</td></tr><tr><td>1985</td><td>17</td></tr><tr><td>1984</td><td>15</td></tr><tr><td>1983</td><td>16</td></tr><tr><td>1982</td><td>17</td></tr><tr><td>1981</td><td>17</td></tr><tr><td>1980</td><td>15</td></tr><tr><td>1979</td><td>19</td></tr><tr><td>1978</td><td>19</td></tr><tr><td>1977</td><td>21</td></tr><tr><td>1976</td><td>21</td></tr><tr><td>1975</td><td>20</td></tr><tr><td>1974</td><td>20</td></tr><tr><td>1973</td><td>12</td></tr><tr><td>1972</td><td>12</td></tr><tr><td>1971</td><td>12</td></tr><tr><td>1970</td><td>12</td></tr><tr><td>1969</td><td>11</td></tr><tr><td>1968</td><td>17</td></tr><tr><td>1967</td><td>20</td></tr><tr><td>1966</td><td>15</td></tr><tr><td>1965</td><td>16</td></tr><tr><td>1964</td><td>13</td></tr><tr><td>1963</td><td>22</td></tr><tr><td>1962</td><td>19</td></tr><tr><td>1961</td><td>14</td></tr><tr><td>1960</td><td>23</td></tr><tr><td>1959</td><td>26</td></tr><tr><td>1958</td><td>16</td></tr><tr><td>1957</td><td>14</td></tr><tr><td>1956</td><td>15</td></tr><tr><td>1955</td><td>19</td></tr><tr><td>1954</td><td>19</td></tr><tr><td>1953</td><td>21</td></tr><tr><td>1952</td><td>25</td></tr><tr><td>1951</td><td>24</td></tr><tr><td>1950</td><td>24</td></tr></tbody></table></div>"
      ]
     },
     "metadata": {
      "application/vnd.databricks.v1+output": {
       "addedWidgets": {},
       "aggData": [],
       "aggError": "",
       "aggOverflow": false,
       "aggSchema": [],
       "aggSeriesLimitReached": false,
       "aggType": "",
       "arguments": {},
       "columnCustomDisplayInfos": {},
       "data": [
        [
         2021,
         10
        ],
        [
         2020,
         10
        ],
        [
         2019,
         10
        ],
        [
         2018,
         10
        ],
        [
         2017,
         10
        ],
        [
         2016,
         11
        ],
        [
         2015,
         10
        ],
        [
         2014,
         11
        ],
        [
         2013,
         11
        ],
        [
         2012,
         12
        ],
        [
         2011,
         12
        ],
        [
         2010,
         12
        ],
        [
         2009,
         10
        ],
        [
         2008,
         11
        ],
        [
         2007,
         11
        ],
        [
         2006,
         12
        ],
        [
         2005,
         10
        ],
        [
         2004,
         10
        ],
        [
         2003,
         10
        ],
        [
         2002,
         11
        ],
        [
         2001,
         11
        ],
        [
         2000,
         11
        ],
        [
         1999,
         11
        ],
        [
         1998,
         11
        ],
        [
         1997,
         12
        ],
        [
         1996,
         11
        ],
        [
         1995,
         13
        ],
        [
         1994,
         14
        ],
        [
         1993,
         13
        ],
        [
         1992,
         16
        ],
        [
         1991,
         19
        ],
        [
         1990,
         19
        ],
        [
         1989,
         20
        ],
        [
         1988,
         18
        ],
        [
         1987,
         16
        ],
        [
         1986,
         14
        ],
        [
         1985,
         17
        ],
        [
         1984,
         15
        ],
        [
         1983,
         16
        ],
        [
         1982,
         17
        ],
        [
         1981,
         17
        ],
        [
         1980,
         15
        ],
        [
         1979,
         19
        ],
        [
         1978,
         19
        ],
        [
         1977,
         21
        ],
        [
         1976,
         21
        ],
        [
         1975,
         20
        ],
        [
         1974,
         20
        ],
        [
         1973,
         12
        ],
        [
         1972,
         12
        ],
        [
         1971,
         12
        ],
        [
         1970,
         12
        ],
        [
         1969,
         11
        ],
        [
         1968,
         17
        ],
        [
         1967,
         20
        ],
        [
         1966,
         15
        ],
        [
         1965,
         16
        ],
        [
         1964,
         13
        ],
        [
         1963,
         22
        ],
        [
         1962,
         19
        ],
        [
         1961,
         14
        ],
        [
         1960,
         23
        ],
        [
         1959,
         26
        ],
        [
         1958,
         16
        ],
        [
         1957,
         14
        ],
        [
         1956,
         15
        ],
        [
         1955,
         19
        ],
        [
         1954,
         19
        ],
        [
         1953,
         21
        ],
        [
         1952,
         25
        ],
        [
         1951,
         24
        ],
        [
         1950,
         24
        ]
       ],
       "datasetInfos": [],
       "dbfsResultPath": null,
       "isJsonSchema": true,
       "metadata": {},
       "overflow": false,
       "plotOptions": {
        "customPlotOptions": {},
        "displayType": "table",
        "pivotAggregation": null,
        "pivotColumns": null,
        "xColumns": null,
        "yColumns": null
       },
       "removedWidgets": [],
       "schema": [
        {
         "metadata": "{}",
         "name": "race_year",
         "type": "\"integer\""
        },
        {
         "metadata": "{\"__autoGeneratedAlias\":\"true\"}",
         "name": "count(1)",
         "type": "\"long\""
        }
       ],
       "type": "table"
      }
     },
     "output_type": "display_data"
    }
   ],
   "source": [
    "%sql\n",
    "SELECT race_year, count(1)\n",
    "FROM f1_presentation.constructor_standings\n",
    "GROUP BY race_year\n",
    "ORDER BY race_year DESC"
   ]
  },
  {
   "cell_type": "code",
   "execution_count": 0,
   "metadata": {
    "application/vnd.databricks.v1+cell": {
     "cellMetadata": {
      "byteLimit": 2048000,
      "rowLimit": 10000
     },
     "inputWidgets": {},
     "nuid": "83ac5078-13c6-4159-a933-0c9ebb4b6987",
     "showTitle": false,
     "title": ""
    }
   },
   "outputs": [],
   "source": []
  }
 ],
 "metadata": {
  "application/vnd.databricks.v1+notebook": {
   "dashboards": [],
   "language": "python",
   "notebookMetadata": {
    "mostRecentlyExecutedCommandWithImplicitDF": {
     "commandId": 1899635633613460,
     "dataframes": [
      "_sqldf"
     ]
    },
    "pythonIndentUnit": 4
   },
   "notebookName": "3. constructor_standings",
   "notebookOrigID": 3540652533036680,
   "widgets": {
    "p_file_date": {
     "currentValue": "2021-04-18",
     "nuid": "53ac3153-8f39-4b7b-91e4-822f16340076",
     "widgetInfo": {
      "widgetType": "text",
      "defaultValue": "2021-03-21",
      "label": null,
      "name": "p_file_date",
      "options": {
       "widgetType": "text",
       "validationRegex": null
      }
     }
    }
   }
  }
 },
 "nbformat": 4,
 "nbformat_minor": 0
}
