{
 "cells": [
  {
   "cell_type": "code",
   "execution_count": 0,
   "metadata": {
    "application/vnd.databricks.v1+cell": {
     "cellMetadata": {
      "byteLimit": 2048000,
      "rowLimit": 10000
     },
     "inputWidgets": {},
     "nuid": "ac6c6d0f-5386-4b15-b6e9-f29b43ad86a6",
     "showTitle": false,
     "title": ""
    }
   },
   "outputs": [],
   "source": [
    "%run ../includes/configuration"
   ]
  },
  {
   "cell_type": "code",
   "execution_count": 0,
   "metadata": {
    "application/vnd.databricks.v1+cell": {
     "cellMetadata": {
      "byteLimit": 2048000,
      "rowLimit": 10000
     },
     "inputWidgets": {},
     "nuid": "4100e5c2-5d11-4f36-a040-a192850d20f9",
     "showTitle": false,
     "title": ""
    }
   },
   "outputs": [],
   "source": [
    "%run \"../includes/common_functions\""
   ]
  },
  {
   "cell_type": "code",
   "execution_count": 0,
   "metadata": {
    "application/vnd.databricks.v1+cell": {
     "cellMetadata": {
      "byteLimit": 2048000,
      "rowLimit": 10000
     },
     "inputWidgets": {},
     "nuid": "84f2bf2f-d287-42e4-956f-9f21e47d5507",
     "showTitle": false,
     "title": ""
    }
   },
   "outputs": [],
   "source": [
    "dbutils.widgets.text(\"p_file_date\", \"2021-03-21\")\n",
    "v_file_date = dbutils.widgets.get(\"p_file_date\")"
   ]
  },
  {
   "cell_type": "markdown",
   "metadata": {
    "application/vnd.databricks.v1+cell": {
     "cellMetadata": {
      "byteLimit": 2048000,
      "rowLimit": 10000
     },
     "inputWidgets": {},
     "nuid": "16240569-16ca-499b-b288-012f47f82fec",
     "showTitle": false,
     "title": ""
    }
   },
   "source": [
    "Find race years for which the data is to be reprocessed"
   ]
  },
  {
   "cell_type": "code",
   "execution_count": 0,
   "metadata": {
    "application/vnd.databricks.v1+cell": {
     "cellMetadata": {
      "byteLimit": 2048000,
      "rowLimit": 10000
     },
     "inputWidgets": {},
     "nuid": "6c682302-8042-4c70-aa91-b75939fa4334",
     "showTitle": false,
     "title": ""
    }
   },
   "outputs": [],
   "source": [
    "race_results_year = spark.read.parquet(f'{presentation_folder_path}race_results').\\\n",
    "filter(f\"file_date='{v_file_date}'\") \\\n",
    ".select('race_year') \\\n",
    ".distinct() \\\n",
    ".collect()"
   ]
  },
  {
   "cell_type": "code",
   "execution_count": 0,
   "metadata": {
    "application/vnd.databricks.v1+cell": {
     "cellMetadata": {
      "byteLimit": 2048000,
      "rowLimit": 10000
     },
     "inputWidgets": {},
     "nuid": "0fbec9c7-8c26-43f9-b45d-44c789c55a4b",
     "showTitle": false,
     "title": ""
    }
   },
   "outputs": [
    {
     "output_type": "stream",
     "name": "stdout",
     "output_type": "stream",
     "text": [
      "[2021]\n"
     ]
    }
   ],
   "source": [
    "race_year_list = []\n",
    "for race_year in race_results_year:\n",
    "    race_year_list.append(race_year.race_year)\n",
    "print(race_year_list)"
   ]
  },
  {
   "cell_type": "code",
   "execution_count": 0,
   "metadata": {
    "application/vnd.databricks.v1+cell": {
     "cellMetadata": {
      "byteLimit": 2048000,
      "rowLimit": 10000
     },
     "inputWidgets": {},
     "nuid": "5a657b9c-30f8-4164-9d50-2687f6839d2d",
     "showTitle": false,
     "title": ""
    }
   },
   "outputs": [],
   "source": [
    "from pyspark.sql.functions import sum, when, count, col,rank\n",
    "race_reuslts_df = spark.read.parquet(f'{presentation_folder_path}race_results').\\\n",
    "filter(col(\"race_year\").isin(race_year_list))"
   ]
  },
  {
   "cell_type": "code",
   "execution_count": 0,
   "metadata": {
    "application/vnd.databricks.v1+cell": {
     "cellMetadata": {
      "byteLimit": 2048000,
      "rowLimit": 10000
     },
     "inputWidgets": {},
     "nuid": "70ddaf0b-9bf6-47ed-b1b0-56a428ee99a2",
     "showTitle": false,
     "title": ""
    }
   },
   "outputs": [
    {
     "output_type": "display_data",
     "data": {
      "text/html": [
       "<style scoped>\n",
       "  .table-result-container {\n",
       "    max-height: 300px;\n",
       "    overflow: auto;\n",
       "  }\n",
       "  table, th, td {\n",
       "    border: 1px solid black;\n",
       "    border-collapse: collapse;\n",
       "  }\n",
       "  th, td {\n",
       "    padding: 5px;\n",
       "  }\n",
       "  th {\n",
       "    text-align: left;\n",
       "  }\n",
       "</style><div class='table-result-container'><table class='table-result'><thead style='background-color: white'><tr><th>race_year</th><th>race_name</th><th>race_date</th><th>circuit_location</th><th>driver_name</th><th>driver_number</th><th>driver_nationality</th><th>team</th><th>grid</th><th>fastest_lap</th><th>race_time</th><th>points</th><th>position</th><th>file_date</th><th>created_time</th><th>race_id</th></tr></thead><tbody><tr><td>2021</td><td>Emilia Romagna Grand Prix</td><td>2021-04-18T13:00:00.000+0000</td><td>Imola</td><td>Max Verstappen</td><td>33</td><td>Dutch</td><td>Red Bull</td><td>3</td><td>60</td><td>2:02:34.598</td><td>25</td><td>1</td><td>2021-04-18</td><td>2023-05-04T05:47:37.008+0000</td><td>1053</td></tr><tr><td>2021</td><td>Emilia Romagna Grand Prix</td><td>2021-04-18T13:00:00.000+0000</td><td>Imola</td><td>Lewis Hamilton</td><td>44</td><td>British</td><td>Mercedes</td><td>1</td><td>60</td><td>+22.000</td><td>19</td><td>2</td><td>2021-04-18</td><td>2023-05-04T05:47:37.008+0000</td><td>1053</td></tr><tr><td>2021</td><td>Emilia Romagna Grand Prix</td><td>2021-04-18T13:00:00.000+0000</td><td>Imola</td><td>Lando Norris</td><td>4</td><td>British</td><td>McLaren</td><td>7</td><td>63</td><td>+23.702</td><td>15</td><td>3</td><td>2021-04-18</td><td>2023-05-04T05:47:37.008+0000</td><td>1053</td></tr><tr><td>2021</td><td>Emilia Romagna Grand Prix</td><td>2021-04-18T13:00:00.000+0000</td><td>Imola</td><td>Charles Leclerc</td><td>16</td><td>Monegasque</td><td>Ferrari</td><td>4</td><td>60</td><td>+25.579</td><td>12</td><td>4</td><td>2021-04-18</td><td>2023-05-04T05:47:37.008+0000</td><td>1053</td></tr><tr><td>2021</td><td>Emilia Romagna Grand Prix</td><td>2021-04-18T13:00:00.000+0000</td><td>Imola</td><td>Carlos Sainz</td><td>55</td><td>Spanish</td><td>Ferrari</td><td>11</td><td>60</td><td>+27.036</td><td>10</td><td>5</td><td>2021-04-18</td><td>2023-05-04T05:47:37.008+0000</td><td>1053</td></tr><tr><td>2021</td><td>Emilia Romagna Grand Prix</td><td>2021-04-18T13:00:00.000+0000</td><td>Imola</td><td>Daniel Ricciardo</td><td>3</td><td>Australian</td><td>McLaren</td><td>6</td><td>54</td><td>+51.220</td><td>8</td><td>6</td><td>2021-04-18</td><td>2023-05-04T05:47:37.008+0000</td><td>1053</td></tr><tr><td>2021</td><td>Emilia Romagna Grand Prix</td><td>2021-04-18T13:00:00.000+0000</td><td>Imola</td><td>Pierre Gasly</td><td>10</td><td>French</td><td>AlphaTauri</td><td>5</td><td>52</td><td>+52.818</td><td>6</td><td>7</td><td>2021-04-18</td><td>2023-05-04T05:47:37.008+0000</td><td>1053</td></tr><tr><td>2021</td><td>Emilia Romagna Grand Prix</td><td>2021-04-18T13:00:00.000+0000</td><td>Imola</td><td>Lance Stroll</td><td>18</td><td>Canadian</td><td>Aston Martin</td><td>10</td><td>59</td><td>+56.909</td><td>4</td><td>8</td><td>2021-04-18</td><td>2023-05-04T05:47:37.008+0000</td><td>1053</td></tr><tr><td>2021</td><td>Emilia Romagna Grand Prix</td><td>2021-04-18T13:00:00.000+0000</td><td>Imola</td><td>Esteban Ocon</td><td>31</td><td>French</td><td>Alpine F1 Team</td><td>9</td><td>62</td><td>+65.704</td><td>2</td><td>9</td><td>2021-04-18</td><td>2023-05-04T05:47:37.008+0000</td><td>1053</td></tr><tr><td>2021</td><td>Emilia Romagna Grand Prix</td><td>2021-04-18T13:00:00.000+0000</td><td>Imola</td><td>Fernando Alonso</td><td>14</td><td>Spanish</td><td>Alpine F1 Team</td><td>15</td><td>62</td><td>+66.561</td><td>1</td><td>10</td><td>2021-04-18</td><td>2023-05-04T05:47:37.008+0000</td><td>1053</td></tr><tr><td>2021</td><td>Emilia Romagna Grand Prix</td><td>2021-04-18T13:00:00.000+0000</td><td>Imola</td><td>Sergio Pérez</td><td>11</td><td>Mexican</td><td>Red Bull</td><td>2</td><td>62</td><td>+67.151</td><td>0</td><td>11</td><td>2021-04-18</td><td>2023-05-04T05:47:37.008+0000</td><td>1053</td></tr><tr><td>2021</td><td>Emilia Romagna Grand Prix</td><td>2021-04-18T13:00:00.000+0000</td><td>Imola</td><td>Yuki Tsunoda</td><td>null</td><td>Japanese</td><td>AlphaTauri</td><td>20</td><td>49</td><td>+73.184</td><td>0</td><td>12</td><td>2021-04-18</td><td>2023-05-04T05:47:37.008+0000</td><td>1053</td></tr><tr><td>2021</td><td>Emilia Romagna Grand Prix</td><td>2021-04-18T13:00:00.000+0000</td><td>Imola</td><td>Kimi Räikkönen</td><td>7</td><td>Finnish</td><td>Alfa Romeo</td><td>16</td><td>62</td><td>+94.773</td><td>0</td><td>13</td><td>2021-04-18</td><td>2023-05-04T05:47:37.008+0000</td><td>1053</td></tr><tr><td>2021</td><td>Emilia Romagna Grand Prix</td><td>2021-04-18T13:00:00.000+0000</td><td>Imola</td><td>Antonio Giovinazzi</td><td>99</td><td>Italian</td><td>Alfa Romeo</td><td>17</td><td>57</td><td>\\N</td><td>0</td><td>14</td><td>2021-04-18</td><td>2023-05-04T05:47:37.008+0000</td><td>1053</td></tr><tr><td>2021</td><td>Emilia Romagna Grand Prix</td><td>2021-04-18T13:00:00.000+0000</td><td>Imola</td><td>Sebastian Vettel</td><td>5</td><td>German</td><td>Aston Martin</td><td>0</td><td>59</td><td>\\N</td><td>0</td><td>15</td><td>2021-04-18</td><td>2023-05-04T05:47:37.008+0000</td><td>1053</td></tr><tr><td>2021</td><td>Emilia Romagna Grand Prix</td><td>2021-04-18T13:00:00.000+0000</td><td>Imola</td><td>Mick Schumacher</td><td>null</td><td>German</td><td>Haas F1 Team</td><td>18</td><td>58</td><td>\\N</td><td>0</td><td>16</td><td>2021-04-18</td><td>2023-05-04T05:47:37.008+0000</td><td>1053</td></tr><tr><td>2021</td><td>Emilia Romagna Grand Prix</td><td>2021-04-18T13:00:00.000+0000</td><td>Imola</td><td>Nikita Mazepin</td><td>null</td><td>Russian</td><td>Haas F1 Team</td><td>19</td><td>55</td><td>\\N</td><td>0</td><td>17</td><td>2021-04-18</td><td>2023-05-04T05:47:37.008+0000</td><td>1053</td></tr><tr><td>2021</td><td>Emilia Romagna Grand Prix</td><td>2021-04-18T13:00:00.000+0000</td><td>Imola</td><td>Valtteri Bottas</td><td>77</td><td>Finnish</td><td>Mercedes</td><td>8</td><td>30</td><td>\\N</td><td>0</td><td>null</td><td>2021-04-18</td><td>2023-05-04T05:47:37.008+0000</td><td>1053</td></tr><tr><td>2021</td><td>Emilia Romagna Grand Prix</td><td>2021-04-18T13:00:00.000+0000</td><td>Imola</td><td>George Russell</td><td>63</td><td>British</td><td>Williams</td><td>12</td><td>28</td><td>\\N</td><td>0</td><td>null</td><td>2021-04-18</td><td>2023-05-04T05:47:37.008+0000</td><td>1053</td></tr><tr><td>2021</td><td>Emilia Romagna Grand Prix</td><td>2021-04-18T13:00:00.000+0000</td><td>Imola</td><td>Nicholas Latifi</td><td>6</td><td>Canadian</td><td>Williams</td><td>14</td><td>null</td><td>\\N</td><td>0</td><td>null</td><td>2021-04-18</td><td>2023-05-04T05:47:37.008+0000</td><td>1053</td></tr><tr><td>2021</td><td>Bahrain Grand Prix</td><td>2021-03-28T15:00:00.000+0000</td><td>Sakhir</td><td>Lewis Hamilton</td><td>44</td><td>British</td><td>Mercedes</td><td>2</td><td>44</td><td>1:32:03.897</td><td>25</td><td>1</td><td>2021-03-28</td><td>2023-05-04T05:46:06.473+0000</td><td>1052</td></tr><tr><td>2021</td><td>Bahrain Grand Prix</td><td>2021-03-28T15:00:00.000+0000</td><td>Sakhir</td><td>Max Verstappen</td><td>33</td><td>Dutch</td><td>Red Bull</td><td>1</td><td>41</td><td>+0.745</td><td>18</td><td>2</td><td>2021-03-28</td><td>2023-05-04T05:46:06.473+0000</td><td>1052</td></tr><tr><td>2021</td><td>Bahrain Grand Prix</td><td>2021-03-28T15:00:00.000+0000</td><td>Sakhir</td><td>Valtteri Bottas</td><td>77</td><td>Finnish</td><td>Mercedes</td><td>3</td><td>56</td><td>+37.383</td><td>16</td><td>3</td><td>2021-03-28</td><td>2023-05-04T05:46:06.473+0000</td><td>1052</td></tr><tr><td>2021</td><td>Bahrain Grand Prix</td><td>2021-03-28T15:00:00.000+0000</td><td>Sakhir</td><td>Lando Norris</td><td>4</td><td>British</td><td>McLaren</td><td>7</td><td>38</td><td>+46.466</td><td>12</td><td>4</td><td>2021-03-28</td><td>2023-05-04T05:46:06.473+0000</td><td>1052</td></tr><tr><td>2021</td><td>Bahrain Grand Prix</td><td>2021-03-28T15:00:00.000+0000</td><td>Sakhir</td><td>Sergio Pérez</td><td>11</td><td>Mexican</td><td>Red Bull</td><td>0</td><td>44</td><td>+52.047</td><td>10</td><td>5</td><td>2021-03-28</td><td>2023-05-04T05:46:06.473+0000</td><td>1052</td></tr><tr><td>2021</td><td>Bahrain Grand Prix</td><td>2021-03-28T15:00:00.000+0000</td><td>Sakhir</td><td>Charles Leclerc</td><td>16</td><td>Monegasque</td><td>Ferrari</td><td>4</td><td>39</td><td>+59.090</td><td>8</td><td>6</td><td>2021-03-28</td><td>2023-05-04T05:46:06.473+0000</td><td>1052</td></tr><tr><td>2021</td><td>Bahrain Grand Prix</td><td>2021-03-28T15:00:00.000+0000</td><td>Sakhir</td><td>Daniel Ricciardo</td><td>3</td><td>Australian</td><td>McLaren</td><td>6</td><td>36</td><td>+66.004</td><td>6</td><td>7</td><td>2021-03-28</td><td>2023-05-04T05:46:06.473+0000</td><td>1052</td></tr><tr><td>2021</td><td>Bahrain Grand Prix</td><td>2021-03-28T15:00:00.000+0000</td><td>Sakhir</td><td>Carlos Sainz</td><td>55</td><td>Spanish</td><td>Ferrari</td><td>8</td><td>48</td><td>+67.100</td><td>4</td><td>8</td><td>2021-03-28</td><td>2023-05-04T05:46:06.473+0000</td><td>1052</td></tr><tr><td>2021</td><td>Bahrain Grand Prix</td><td>2021-03-28T15:00:00.000+0000</td><td>Sakhir</td><td>Yuki Tsunoda</td><td>null</td><td>Japanese</td><td>AlphaTauri</td><td>13</td><td>38</td><td>+85.692</td><td>2</td><td>9</td><td>2021-03-28</td><td>2023-05-04T05:46:06.473+0000</td><td>1052</td></tr><tr><td>2021</td><td>Bahrain Grand Prix</td><td>2021-03-28T15:00:00.000+0000</td><td>Sakhir</td><td>Lance Stroll</td><td>18</td><td>Canadian</td><td>Aston Martin</td><td>10</td><td>31</td><td>+86.713</td><td>1</td><td>10</td><td>2021-03-28</td><td>2023-05-04T05:46:06.473+0000</td><td>1052</td></tr><tr><td>2021</td><td>Bahrain Grand Prix</td><td>2021-03-28T15:00:00.000+0000</td><td>Sakhir</td><td>Kimi Räikkönen</td><td>7</td><td>Finnish</td><td>Alfa Romeo</td><td>14</td><td>45</td><td>+88.864</td><td>0</td><td>11</td><td>2021-03-28</td><td>2023-05-04T05:46:06.473+0000</td><td>1052</td></tr><tr><td>2021</td><td>Bahrain Grand Prix</td><td>2021-03-28T15:00:00.000+0000</td><td>Sakhir</td><td>Antonio Giovinazzi</td><td>99</td><td>Italian</td><td>Alfa Romeo</td><td>12</td><td>32</td><td>\\N</td><td>0</td><td>12</td><td>2021-03-28</td><td>2023-05-04T05:46:06.473+0000</td><td>1052</td></tr><tr><td>2021</td><td>Bahrain Grand Prix</td><td>2021-03-28T15:00:00.000+0000</td><td>Sakhir</td><td>Esteban Ocon</td><td>31</td><td>French</td><td>Alpine F1 Team</td><td>16</td><td>33</td><td>\\N</td><td>0</td><td>13</td><td>2021-03-28</td><td>2023-05-04T05:46:06.473+0000</td><td>1052</td></tr><tr><td>2021</td><td>Bahrain Grand Prix</td><td>2021-03-28T15:00:00.000+0000</td><td>Sakhir</td><td>George Russell</td><td>63</td><td>British</td><td>Williams</td><td>15</td><td>40</td><td>\\N</td><td>0</td><td>14</td><td>2021-03-28</td><td>2023-05-04T05:46:06.473+0000</td><td>1052</td></tr><tr><td>2021</td><td>Bahrain Grand Prix</td><td>2021-03-28T15:00:00.000+0000</td><td>Sakhir</td><td>Sebastian Vettel</td><td>5</td><td>German</td><td>Aston Martin</td><td>20</td><td>26</td><td>\\N</td><td>0</td><td>15</td><td>2021-03-28</td><td>2023-05-04T05:46:06.473+0000</td><td>1052</td></tr><tr><td>2021</td><td>Bahrain Grand Prix</td><td>2021-03-28T15:00:00.000+0000</td><td>Sakhir</td><td>Mick Schumacher</td><td>null</td><td>German</td><td>Haas F1 Team</td><td>18</td><td>38</td><td>\\N</td><td>0</td><td>16</td><td>2021-03-28</td><td>2023-05-04T05:46:06.473+0000</td><td>1052</td></tr><tr><td>2021</td><td>Bahrain Grand Prix</td><td>2021-03-28T15:00:00.000+0000</td><td>Sakhir</td><td>Pierre Gasly</td><td>10</td><td>French</td><td>AlphaTauri</td><td>5</td><td>48</td><td>\\N</td><td>0</td><td>17</td><td>2021-03-28</td><td>2023-05-04T05:46:06.473+0000</td><td>1052</td></tr><tr><td>2021</td><td>Bahrain Grand Prix</td><td>2021-03-28T15:00:00.000+0000</td><td>Sakhir</td><td>Nicholas Latifi</td><td>6</td><td>Canadian</td><td>Williams</td><td>17</td><td>16</td><td>\\N</td><td>0</td><td>18</td><td>2021-03-28</td><td>2023-05-04T05:46:06.473+0000</td><td>1052</td></tr><tr><td>2021</td><td>Bahrain Grand Prix</td><td>2021-03-28T15:00:00.000+0000</td><td>Sakhir</td><td>Fernando Alonso</td><td>14</td><td>Spanish</td><td>Alpine F1 Team</td><td>9</td><td>31</td><td>\\N</td><td>0</td><td>null</td><td>2021-03-28</td><td>2023-05-04T05:46:06.473+0000</td><td>1052</td></tr><tr><td>2021</td><td>Bahrain Grand Prix</td><td>2021-03-28T15:00:00.000+0000</td><td>Sakhir</td><td>Nikita Mazepin</td><td>null</td><td>Russian</td><td>Haas F1 Team</td><td>19</td><td>null</td><td>\\N</td><td>0</td><td>null</td><td>2021-03-28</td><td>2023-05-04T05:46:06.473+0000</td><td>1052</td></tr></tbody></table></div>"
      ]
     },
     "metadata": {
      "application/vnd.databricks.v1+output": {
       "addedWidgets": {},
       "aggData": [],
       "aggError": "",
       "aggOverflow": false,
       "aggSchema": [],
       "aggSeriesLimitReached": false,
       "aggType": "",
       "arguments": {},
       "columnCustomDisplayInfos": {},
       "data": [
        [
         2021,
         "Emilia Romagna Grand Prix",
         "2021-04-18T13:00:00.000+0000",
         "Imola",
         "Max Verstappen",
         33,
         "Dutch",
         "Red Bull",
         3,
         60,
         "2:02:34.598",
         25,
         1,
         "2021-04-18",
         "2023-05-04T05:47:37.008+0000",
         1053
        ],
        [
         2021,
         "Emilia Romagna Grand Prix",
         "2021-04-18T13:00:00.000+0000",
         "Imola",
         "Lewis Hamilton",
         44,
         "British",
         "Mercedes",
         1,
         60,
         "+22.000",
         19,
         2,
         "2021-04-18",
         "2023-05-04T05:47:37.008+0000",
         1053
        ],
        [
         2021,
         "Emilia Romagna Grand Prix",
         "2021-04-18T13:00:00.000+0000",
         "Imola",
         "Lando Norris",
         4,
         "British",
         "McLaren",
         7,
         63,
         "+23.702",
         15,
         3,
         "2021-04-18",
         "2023-05-04T05:47:37.008+0000",
         1053
        ],
        [
         2021,
         "Emilia Romagna Grand Prix",
         "2021-04-18T13:00:00.000+0000",
         "Imola",
         "Charles Leclerc",
         16,
         "Monegasque",
         "Ferrari",
         4,
         60,
         "+25.579",
         12,
         4,
         "2021-04-18",
         "2023-05-04T05:47:37.008+0000",
         1053
        ],
        [
         2021,
         "Emilia Romagna Grand Prix",
         "2021-04-18T13:00:00.000+0000",
         "Imola",
         "Carlos Sainz",
         55,
         "Spanish",
         "Ferrari",
         11,
         60,
         "+27.036",
         10,
         5,
         "2021-04-18",
         "2023-05-04T05:47:37.008+0000",
         1053
        ],
        [
         2021,
         "Emilia Romagna Grand Prix",
         "2021-04-18T13:00:00.000+0000",
         "Imola",
         "Daniel Ricciardo",
         3,
         "Australian",
         "McLaren",
         6,
         54,
         "+51.220",
         8,
         6,
         "2021-04-18",
         "2023-05-04T05:47:37.008+0000",
         1053
        ],
        [
         2021,
         "Emilia Romagna Grand Prix",
         "2021-04-18T13:00:00.000+0000",
         "Imola",
         "Pierre Gasly",
         10,
         "French",
         "AlphaTauri",
         5,
         52,
         "+52.818",
         6,
         7,
         "2021-04-18",
         "2023-05-04T05:47:37.008+0000",
         1053
        ],
        [
         2021,
         "Emilia Romagna Grand Prix",
         "2021-04-18T13:00:00.000+0000",
         "Imola",
         "Lance Stroll",
         18,
         "Canadian",
         "Aston Martin",
         10,
         59,
         "+56.909",
         4,
         8,
         "2021-04-18",
         "2023-05-04T05:47:37.008+0000",
         1053
        ],
        [
         2021,
         "Emilia Romagna Grand Prix",
         "2021-04-18T13:00:00.000+0000",
         "Imola",
         "Esteban Ocon",
         31,
         "French",
         "Alpine F1 Team",
         9,
         62,
         "+65.704",
         2,
         9,
         "2021-04-18",
         "2023-05-04T05:47:37.008+0000",
         1053
        ],
        [
         2021,
         "Emilia Romagna Grand Prix",
         "2021-04-18T13:00:00.000+0000",
         "Imola",
         "Fernando Alonso",
         14,
         "Spanish",
         "Alpine F1 Team",
         15,
         62,
         "+66.561",
         1,
         10,
         "2021-04-18",
         "2023-05-04T05:47:37.008+0000",
         1053
        ],
        [
         2021,
         "Emilia Romagna Grand Prix",
         "2021-04-18T13:00:00.000+0000",
         "Imola",
         "Sergio Pérez",
         11,
         "Mexican",
         "Red Bull",
         2,
         62,
         "+67.151",
         0,
         11,
         "2021-04-18",
         "2023-05-04T05:47:37.008+0000",
         1053
        ],
        [
         2021,
         "Emilia Romagna Grand Prix",
         "2021-04-18T13:00:00.000+0000",
         "Imola",
         "Yuki Tsunoda",
         null,
         "Japanese",
         "AlphaTauri",
         20,
         49,
         "+73.184",
         0,
         12,
         "2021-04-18",
         "2023-05-04T05:47:37.008+0000",
         1053
        ],
        [
         2021,
         "Emilia Romagna Grand Prix",
         "2021-04-18T13:00:00.000+0000",
         "Imola",
         "Kimi Räikkönen",
         7,
         "Finnish",
         "Alfa Romeo",
         16,
         62,
         "+94.773",
         0,
         13,
         "2021-04-18",
         "2023-05-04T05:47:37.008+0000",
         1053
        ],
        [
         2021,
         "Emilia Romagna Grand Prix",
         "2021-04-18T13:00:00.000+0000",
         "Imola",
         "Antonio Giovinazzi",
         99,
         "Italian",
         "Alfa Romeo",
         17,
         57,
         "\\N",
         0,
         14,
         "2021-04-18",
         "2023-05-04T05:47:37.008+0000",
         1053
        ],
        [
         2021,
         "Emilia Romagna Grand Prix",
         "2021-04-18T13:00:00.000+0000",
         "Imola",
         "Sebastian Vettel",
         5,
         "German",
         "Aston Martin",
         0,
         59,
         "\\N",
         0,
         15,
         "2021-04-18",
         "2023-05-04T05:47:37.008+0000",
         1053
        ],
        [
         2021,
         "Emilia Romagna Grand Prix",
         "2021-04-18T13:00:00.000+0000",
         "Imola",
         "Mick Schumacher",
         null,
         "German",
         "Haas F1 Team",
         18,
         58,
         "\\N",
         0,
         16,
         "2021-04-18",
         "2023-05-04T05:47:37.008+0000",
         1053
        ],
        [
         2021,
         "Emilia Romagna Grand Prix",
         "2021-04-18T13:00:00.000+0000",
         "Imola",
         "Nikita Mazepin",
         null,
         "Russian",
         "Haas F1 Team",
         19,
         55,
         "\\N",
         0,
         17,
         "2021-04-18",
         "2023-05-04T05:47:37.008+0000",
         1053
        ],
        [
         2021,
         "Emilia Romagna Grand Prix",
         "2021-04-18T13:00:00.000+0000",
         "Imola",
         "Valtteri Bottas",
         77,
         "Finnish",
         "Mercedes",
         8,
         30,
         "\\N",
         0,
         null,
         "2021-04-18",
         "2023-05-04T05:47:37.008+0000",
         1053
        ],
        [
         2021,
         "Emilia Romagna Grand Prix",
         "2021-04-18T13:00:00.000+0000",
         "Imola",
         "George Russell",
         63,
         "British",
         "Williams",
         12,
         28,
         "\\N",
         0,
         null,
         "2021-04-18",
         "2023-05-04T05:47:37.008+0000",
         1053
        ],
        [
         2021,
         "Emilia Romagna Grand Prix",
         "2021-04-18T13:00:00.000+0000",
         "Imola",
         "Nicholas Latifi",
         6,
         "Canadian",
         "Williams",
         14,
         null,
         "\\N",
         0,
         null,
         "2021-04-18",
         "2023-05-04T05:47:37.008+0000",
         1053
        ],
        [
         2021,
         "Bahrain Grand Prix",
         "2021-03-28T15:00:00.000+0000",
         "Sakhir",
         "Lewis Hamilton",
         44,
         "British",
         "Mercedes",
         2,
         44,
         "1:32:03.897",
         25,
         1,
         "2021-03-28",
         "2023-05-04T05:46:06.473+0000",
         1052
        ],
        [
         2021,
         "Bahrain Grand Prix",
         "2021-03-28T15:00:00.000+0000",
         "Sakhir",
         "Max Verstappen",
         33,
         "Dutch",
         "Red Bull",
         1,
         41,
         "+0.745",
         18,
         2,
         "2021-03-28",
         "2023-05-04T05:46:06.473+0000",
         1052
        ],
        [
         2021,
         "Bahrain Grand Prix",
         "2021-03-28T15:00:00.000+0000",
         "Sakhir",
         "Valtteri Bottas",
         77,
         "Finnish",
         "Mercedes",
         3,
         56,
         "+37.383",
         16,
         3,
         "2021-03-28",
         "2023-05-04T05:46:06.473+0000",
         1052
        ],
        [
         2021,
         "Bahrain Grand Prix",
         "2021-03-28T15:00:00.000+0000",
         "Sakhir",
         "Lando Norris",
         4,
         "British",
         "McLaren",
         7,
         38,
         "+46.466",
         12,
         4,
         "2021-03-28",
         "2023-05-04T05:46:06.473+0000",
         1052
        ],
        [
         2021,
         "Bahrain Grand Prix",
         "2021-03-28T15:00:00.000+0000",
         "Sakhir",
         "Sergio Pérez",
         11,
         "Mexican",
         "Red Bull",
         0,
         44,
         "+52.047",
         10,
         5,
         "2021-03-28",
         "2023-05-04T05:46:06.473+0000",
         1052
        ],
        [
         2021,
         "Bahrain Grand Prix",
         "2021-03-28T15:00:00.000+0000",
         "Sakhir",
         "Charles Leclerc",
         16,
         "Monegasque",
         "Ferrari",
         4,
         39,
         "+59.090",
         8,
         6,
         "2021-03-28",
         "2023-05-04T05:46:06.473+0000",
         1052
        ],
        [
         2021,
         "Bahrain Grand Prix",
         "2021-03-28T15:00:00.000+0000",
         "Sakhir",
         "Daniel Ricciardo",
         3,
         "Australian",
         "McLaren",
         6,
         36,
         "+66.004",
         6,
         7,
         "2021-03-28",
         "2023-05-04T05:46:06.473+0000",
         1052
        ],
        [
         2021,
         "Bahrain Grand Prix",
         "2021-03-28T15:00:00.000+0000",
         "Sakhir",
         "Carlos Sainz",
         55,
         "Spanish",
         "Ferrari",
         8,
         48,
         "+67.100",
         4,
         8,
         "2021-03-28",
         "2023-05-04T05:46:06.473+0000",
         1052
        ],
        [
         2021,
         "Bahrain Grand Prix",
         "2021-03-28T15:00:00.000+0000",
         "Sakhir",
         "Yuki Tsunoda",
         null,
         "Japanese",
         "AlphaTauri",
         13,
         38,
         "+85.692",
         2,
         9,
         "2021-03-28",
         "2023-05-04T05:46:06.473+0000",
         1052
        ],
        [
         2021,
         "Bahrain Grand Prix",
         "2021-03-28T15:00:00.000+0000",
         "Sakhir",
         "Lance Stroll",
         18,
         "Canadian",
         "Aston Martin",
         10,
         31,
         "+86.713",
         1,
         10,
         "2021-03-28",
         "2023-05-04T05:46:06.473+0000",
         1052
        ],
        [
         2021,
         "Bahrain Grand Prix",
         "2021-03-28T15:00:00.000+0000",
         "Sakhir",
         "Kimi Räikkönen",
         7,
         "Finnish",
         "Alfa Romeo",
         14,
         45,
         "+88.864",
         0,
         11,
         "2021-03-28",
         "2023-05-04T05:46:06.473+0000",
         1052
        ],
        [
         2021,
         "Bahrain Grand Prix",
         "2021-03-28T15:00:00.000+0000",
         "Sakhir",
         "Antonio Giovinazzi",
         99,
         "Italian",
         "Alfa Romeo",
         12,
         32,
         "\\N",
         0,
         12,
         "2021-03-28",
         "2023-05-04T05:46:06.473+0000",
         1052
        ],
        [
         2021,
         "Bahrain Grand Prix",
         "2021-03-28T15:00:00.000+0000",
         "Sakhir",
         "Esteban Ocon",
         31,
         "French",
         "Alpine F1 Team",
         16,
         33,
         "\\N",
         0,
         13,
         "2021-03-28",
         "2023-05-04T05:46:06.473+0000",
         1052
        ],
        [
         2021,
         "Bahrain Grand Prix",
         "2021-03-28T15:00:00.000+0000",
         "Sakhir",
         "George Russell",
         63,
         "British",
         "Williams",
         15,
         40,
         "\\N",
         0,
         14,
         "2021-03-28",
         "2023-05-04T05:46:06.473+0000",
         1052
        ],
        [
         2021,
         "Bahrain Grand Prix",
         "2021-03-28T15:00:00.000+0000",
         "Sakhir",
         "Sebastian Vettel",
         5,
         "German",
         "Aston Martin",
         20,
         26,
         "\\N",
         0,
         15,
         "2021-03-28",
         "2023-05-04T05:46:06.473+0000",
         1052
        ],
        [
         2021,
         "Bahrain Grand Prix",
         "2021-03-28T15:00:00.000+0000",
         "Sakhir",
         "Mick Schumacher",
         null,
         "German",
         "Haas F1 Team",
         18,
         38,
         "\\N",
         0,
         16,
         "2021-03-28",
         "2023-05-04T05:46:06.473+0000",
         1052
        ],
        [
         2021,
         "Bahrain Grand Prix",
         "2021-03-28T15:00:00.000+0000",
         "Sakhir",
         "Pierre Gasly",
         10,
         "French",
         "AlphaTauri",
         5,
         48,
         "\\N",
         0,
         17,
         "2021-03-28",
         "2023-05-04T05:46:06.473+0000",
         1052
        ],
        [
         2021,
         "Bahrain Grand Prix",
         "2021-03-28T15:00:00.000+0000",
         "Sakhir",
         "Nicholas Latifi",
         6,
         "Canadian",
         "Williams",
         17,
         16,
         "\\N",
         0,
         18,
         "2021-03-28",
         "2023-05-04T05:46:06.473+0000",
         1052
        ],
        [
         2021,
         "Bahrain Grand Prix",
         "2021-03-28T15:00:00.000+0000",
         "Sakhir",
         "Fernando Alonso",
         14,
         "Spanish",
         "Alpine F1 Team",
         9,
         31,
         "\\N",
         0,
         null,
         "2021-03-28",
         "2023-05-04T05:46:06.473+0000",
         1052
        ],
        [
         2021,
         "Bahrain Grand Prix",
         "2021-03-28T15:00:00.000+0000",
         "Sakhir",
         "Nikita Mazepin",
         null,
         "Russian",
         "Haas F1 Team",
         19,
         null,
         "\\N",
         0,
         null,
         "2021-03-28",
         "2023-05-04T05:46:06.473+0000",
         1052
        ]
       ],
       "datasetInfos": [],
       "dbfsResultPath": null,
       "isJsonSchema": true,
       "metadata": {},
       "overflow": false,
       "plotOptions": {
        "customPlotOptions": {},
        "displayType": "table",
        "pivotAggregation": null,
        "pivotColumns": null,
        "xColumns": null,
        "yColumns": null
       },
       "removedWidgets": [],
       "schema": [
        {
         "metadata": "{}",
         "name": "race_year",
         "type": "\"integer\""
        },
        {
         "metadata": "{}",
         "name": "race_name",
         "type": "\"string\""
        },
        {
         "metadata": "{}",
         "name": "race_date",
         "type": "\"timestamp\""
        },
        {
         "metadata": "{}",
         "name": "circuit_location",
         "type": "\"string\""
        },
        {
         "metadata": "{}",
         "name": "driver_name",
         "type": "\"string\""
        },
        {
         "metadata": "{}",
         "name": "driver_number",
         "type": "\"integer\""
        },
        {
         "metadata": "{}",
         "name": "driver_nationality",
         "type": "\"string\""
        },
        {
         "metadata": "{}",
         "name": "team",
         "type": "\"string\""
        },
        {
         "metadata": "{}",
         "name": "grid",
         "type": "\"integer\""
        },
        {
         "metadata": "{}",
         "name": "fastest_lap",
         "type": "\"integer\""
        },
        {
         "metadata": "{}",
         "name": "race_time",
         "type": "\"string\""
        },
        {
         "metadata": "{}",
         "name": "points",
         "type": "\"integer\""
        },
        {
         "metadata": "{}",
         "name": "position",
         "type": "\"integer\""
        },
        {
         "metadata": "{}",
         "name": "file_date",
         "type": "\"string\""
        },
        {
         "metadata": "{}",
         "name": "created_time",
         "type": "\"timestamp\""
        },
        {
         "metadata": "{}",
         "name": "race_id",
         "type": "\"integer\""
        }
       ],
       "type": "table"
      }
     },
     "output_type": "display_data"
    }
   ],
   "source": [
    "display(race_reuslts_df)"
   ]
  },
  {
   "cell_type": "code",
   "execution_count": 0,
   "metadata": {
    "application/vnd.databricks.v1+cell": {
     "cellMetadata": {
      "byteLimit": 2048000,
      "rowLimit": 10000
     },
     "inputWidgets": {},
     "nuid": "e97631f1-91ff-4947-8fae-99208c23e11a",
     "showTitle": false,
     "title": ""
    }
   },
   "outputs": [],
   "source": [
    "driver_standing_df = race_reuslts_df\\\n",
    ".groupby('race_year', 'driver_name', 'driver_nationality', 'team')\\\n",
    ".agg(sum('points').alias('total_points'),\n",
    "count(when (col('position')==1, True)).alias('wins'))"
   ]
  },
  {
   "cell_type": "code",
   "execution_count": 0,
   "metadata": {
    "application/vnd.databricks.v1+cell": {
     "cellMetadata": {
      "byteLimit": 2048000,
      "rowLimit": 10000
     },
     "inputWidgets": {},
     "nuid": "27faf0f3-90a3-40ca-9c84-70108f16555e",
     "showTitle": false,
     "title": ""
    }
   },
   "outputs": [],
   "source": [
    "from pyspark.sql.window import Window\n",
    "\n",
    "driver_rank_spec = Window.partitionBy('race_year').orderBy(desc('total_points'), desc('wins'))\n",
    "final_df = driver_standing_df.withColumn('rank', rank().over(driver_rank_spec))"
   ]
  },
  {
   "cell_type": "code",
   "execution_count": 0,
   "metadata": {
    "application/vnd.databricks.v1+cell": {
     "cellMetadata": {
      "byteLimit": 2048000,
      "rowLimit": 10000
     },
     "inputWidgets": {},
     "nuid": "be54098a-e17b-40a7-95c2-563784cebecf",
     "showTitle": false,
     "title": ""
    }
   },
   "outputs": [],
   "source": [
    "overwrite_partition(final_df, 'race_year', 'f1_presentation', 'driver_standings')"
   ]
  },
  {
   "cell_type": "code",
   "execution_count": 0,
   "metadata": {
    "application/vnd.databricks.v1+cell": {
     "cellMetadata": {
      "byteLimit": 2048000,
      "implicitDf": true,
      "rowLimit": 10000
     },
     "inputWidgets": {},
     "nuid": "4395d40e-7f60-4610-a6e2-46a42e5b744e",
     "showTitle": false,
     "title": ""
    }
   },
   "outputs": [
    {
     "output_type": "display_data",
     "data": {
      "text/html": [
       "<style scoped>\n",
       "  .table-result-container {\n",
       "    max-height: 300px;\n",
       "    overflow: auto;\n",
       "  }\n",
       "  table, th, td {\n",
       "    border: 1px solid black;\n",
       "    border-collapse: collapse;\n",
       "  }\n",
       "  th, td {\n",
       "    padding: 5px;\n",
       "  }\n",
       "  th {\n",
       "    text-align: left;\n",
       "  }\n",
       "</style><div class='table-result-container'><table class='table-result'><thead style='background-color: white'><tr><th>race_year</th><th>count(1)</th></tr></thead><tbody><tr><td>2021</td><td>20</td></tr><tr><td>2020</td><td>24</td></tr><tr><td>2019</td><td>22</td></tr><tr><td>2018</td><td>20</td></tr><tr><td>2017</td><td>26</td></tr><tr><td>2016</td><td>26</td></tr><tr><td>2015</td><td>22</td></tr><tr><td>2014</td><td>24</td></tr><tr><td>2013</td><td>23</td></tr><tr><td>2012</td><td>25</td></tr><tr><td>2011</td><td>28</td></tr><tr><td>2010</td><td>27</td></tr><tr><td>2009</td><td>26</td></tr><tr><td>2008</td><td>22</td></tr><tr><td>2007</td><td>27</td></tr><tr><td>2006</td><td>29</td></tr><tr><td>2005</td><td>27</td></tr><tr><td>2004</td><td>26</td></tr><tr><td>2003</td><td>25</td></tr><tr><td>2002</td><td>24</td></tr><tr><td>2001</td><td>29</td></tr><tr><td>2000</td><td>23</td></tr><tr><td>1999</td><td>25</td></tr><tr><td>1998</td><td>23</td></tr><tr><td>1997</td><td>29</td></tr><tr><td>1996</td><td>24</td></tr><tr><td>1995</td><td>35</td></tr><tr><td>1994</td><td>52</td></tr><tr><td>1993</td><td>35</td></tr><tr><td>1992</td><td>38</td></tr><tr><td>1991</td><td>51</td></tr><tr><td>1990</td><td>43</td></tr><tr><td>1989</td><td>53</td></tr><tr><td>1988</td><td>36</td></tr><tr><td>1987</td><td>33</td></tr><tr><td>1986</td><td>33</td></tr><tr><td>1985</td><td>40</td></tr><tr><td>1984</td><td>38</td></tr><tr><td>1983</td><td>35</td></tr><tr><td>1982</td><td>44</td></tr><tr><td>1981</td><td>44</td></tr><tr><td>1980</td><td>45</td></tr><tr><td>1979</td><td>41</td></tr><tr><td>1978</td><td>58</td></tr><tr><td>1977</td><td>71</td></tr><tr><td>1976</td><td>66</td></tr><tr><td>1975</td><td>65</td></tr><tr><td>1974</td><td>75</td></tr><tr><td>1973</td><td>48</td></tr><tr><td>1972</td><td>46</td></tr><tr><td>1971</td><td>56</td></tr><tr><td>1970</td><td>46</td></tr><tr><td>1969</td><td>35</td></tr><tr><td>1968</td><td>54</td></tr><tr><td>1967</td><td>59</td></tr><tr><td>1966</td><td>46</td></tr><tr><td>1965</td><td>57</td></tr><tr><td>1964</td><td>49</td></tr><tr><td>1963</td><td>73</td></tr><tr><td>1962</td><td>75</td></tr><tr><td>1961</td><td>71</td></tr><tr><td>1960</td><td>107</td></tr><tr><td>1959</td><td>100</td></tr><tr><td>1958</td><td>100</td></tr><tr><td>1957</td><td>82</td></tr><tr><td>1956</td><td>94</td></tr><tr><td>1955</td><td>93</td></tr><tr><td>1954</td><td>107</td></tr><tr><td>1953</td><td>118</td></tr><tr><td>1952</td><td>116</td></tr><tr><td>1951</td><td>88</td></tr><tr><td>1950</td><td>86</td></tr></tbody></table></div>"
      ]
     },
     "metadata": {
      "application/vnd.databricks.v1+output": {
       "addedWidgets": {},
       "aggData": [],
       "aggError": "",
       "aggOverflow": false,
       "aggSchema": [],
       "aggSeriesLimitReached": false,
       "aggType": "",
       "arguments": {},
       "columnCustomDisplayInfos": {},
       "data": [
        [
         2021,
         20
        ],
        [
         2020,
         24
        ],
        [
         2019,
         22
        ],
        [
         2018,
         20
        ],
        [
         2017,
         26
        ],
        [
         2016,
         26
        ],
        [
         2015,
         22
        ],
        [
         2014,
         24
        ],
        [
         2013,
         23
        ],
        [
         2012,
         25
        ],
        [
         2011,
         28
        ],
        [
         2010,
         27
        ],
        [
         2009,
         26
        ],
        [
         2008,
         22
        ],
        [
         2007,
         27
        ],
        [
         2006,
         29
        ],
        [
         2005,
         27
        ],
        [
         2004,
         26
        ],
        [
         2003,
         25
        ],
        [
         2002,
         24
        ],
        [
         2001,
         29
        ],
        [
         2000,
         23
        ],
        [
         1999,
         25
        ],
        [
         1998,
         23
        ],
        [
         1997,
         29
        ],
        [
         1996,
         24
        ],
        [
         1995,
         35
        ],
        [
         1994,
         52
        ],
        [
         1993,
         35
        ],
        [
         1992,
         38
        ],
        [
         1991,
         51
        ],
        [
         1990,
         43
        ],
        [
         1989,
         53
        ],
        [
         1988,
         36
        ],
        [
         1987,
         33
        ],
        [
         1986,
         33
        ],
        [
         1985,
         40
        ],
        [
         1984,
         38
        ],
        [
         1983,
         35
        ],
        [
         1982,
         44
        ],
        [
         1981,
         44
        ],
        [
         1980,
         45
        ],
        [
         1979,
         41
        ],
        [
         1978,
         58
        ],
        [
         1977,
         71
        ],
        [
         1976,
         66
        ],
        [
         1975,
         65
        ],
        [
         1974,
         75
        ],
        [
         1973,
         48
        ],
        [
         1972,
         46
        ],
        [
         1971,
         56
        ],
        [
         1970,
         46
        ],
        [
         1969,
         35
        ],
        [
         1968,
         54
        ],
        [
         1967,
         59
        ],
        [
         1966,
         46
        ],
        [
         1965,
         57
        ],
        [
         1964,
         49
        ],
        [
         1963,
         73
        ],
        [
         1962,
         75
        ],
        [
         1961,
         71
        ],
        [
         1960,
         107
        ],
        [
         1959,
         100
        ],
        [
         1958,
         100
        ],
        [
         1957,
         82
        ],
        [
         1956,
         94
        ],
        [
         1955,
         93
        ],
        [
         1954,
         107
        ],
        [
         1953,
         118
        ],
        [
         1952,
         116
        ],
        [
         1951,
         88
        ],
        [
         1950,
         86
        ]
       ],
       "datasetInfos": [],
       "dbfsResultPath": null,
       "isJsonSchema": true,
       "metadata": {},
       "overflow": false,
       "plotOptions": {
        "customPlotOptions": {},
        "displayType": "table",
        "pivotAggregation": null,
        "pivotColumns": null,
        "xColumns": null,
        "yColumns": null
       },
       "removedWidgets": [],
       "schema": [
        {
         "metadata": "{}",
         "name": "race_year",
         "type": "\"integer\""
        },
        {
         "metadata": "{\"__autoGeneratedAlias\":\"true\"}",
         "name": "count(1)",
         "type": "\"long\""
        }
       ],
       "type": "table"
      }
     },
     "output_type": "display_data"
    }
   ],
   "source": [
    "%sql\n",
    "SELECT race_year, count(1)\n",
    "FROM f1_presentation.driver_standings\n",
    "GROUP BY race_year\n",
    "ORDER BY race_year DESC"
   ]
  },
  {
   "cell_type": "code",
   "execution_count": 0,
   "metadata": {
    "application/vnd.databricks.v1+cell": {
     "cellMetadata": {
      "byteLimit": 2048000,
      "rowLimit": 10000
     },
     "inputWidgets": {},
     "nuid": "1ef9fc24-1850-45d0-8161-bb6735f90dcc",
     "showTitle": false,
     "title": ""
    }
   },
   "outputs": [],
   "source": []
  }
 ],
 "metadata": {
  "application/vnd.databricks.v1+notebook": {
   "dashboards": [],
   "language": "python",
   "notebookMetadata": {
    "mostRecentlyExecutedCommandWithImplicitDF": {
     "commandId": 1899635633613435,
     "dataframes": [
      "_sqldf"
     ]
    },
    "pythonIndentUnit": 4
   },
   "notebookName": "2. driver_standings",
   "notebookOrigID": 3540652533036667,
   "widgets": {
    "p_file_date": {
     "currentValue": "2021-04-18",
     "nuid": "41516784-d77f-4856-8d07-106257d668d1",
     "widgetInfo": {
      "widgetType": "text",
      "defaultValue": "2021-03-21",
      "label": null,
      "name": "p_file_date",
      "options": {
       "widgetType": "text",
       "validationRegex": null
      }
     }
    }
   }
  }
 },
 "nbformat": 4,
 "nbformat_minor": 0
}
